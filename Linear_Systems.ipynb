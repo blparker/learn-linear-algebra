{
 "cells": [
  {
   "cell_type": "code",
   "execution_count": 2,
   "metadata": {
    "hideCode": true,
    "hidePrompt": false
   },
   "outputs": [],
   "source": [
    "%matplotlib inline\n",
    "#%matplotlib notebook\n",
    "\n",
    "import matplotlib\n",
    "import numpy as np\n",
    "import matplotlib.pyplot as plt\n",
    "import matplotlib.ticker as ticker\n",
    "from mpl_toolkits.mplot3d import Axes3D\n",
    "import matplotlib.patches as mpatches\n",
    "from matplotlib.patches import Arc\n",
    "import math\n",
    "from mpl_toolkits import mplot3d\n",
    "from matplotlib.pyplot import plot, scatter, axis, show, axhline, axvline, annotate, grid, legend\n",
    "\n",
    "# Get a legend label\n",
    "def leg(label, color='black'):\n",
    "    return mpatches.Patch(color=color, label=label)"
   ]
  },
  {
   "cell_type": "markdown",
   "metadata": {
    "title": true
   },
   "source": [
    "# Linear Systems"
   ]
  },
  {
   "cell_type": "markdown",
   "metadata": {
    "hideCode": false,
    "hidePrompt": false
   },
   "source": [
    "## Introduction\n",
    "Now that we have a handle on [vectors](vectors) and [matrices](matrices), we're going to take our first foray into using what we've learned so far and apply it to a real problem. This problem will help drive some of the examples so that we can draw connections between the problem and the math used to solve the problem. Recall from the [introduction](introduction) guide we introduced _Harry's Hotdogs and Hamburgers_. Harry has enlisted our help to solve a problem of his:\n",
    "\n",
    "> Harry recently set up shop at a baseball game. Things went well, but at the end of the day, Harry realizes that he didn't keep track of how many individual hotdogs and hamburgers he sold, but he does have totals. He knows that he sold of a combined total of 50 hotdogs and hamburgers and he made \\\\$85.00 total. Harry sells the hotdogs for \\\\$1.50 and the hamburgers for \\\\$2.00. In order to restock, Harry would like to know how many hotdogs and hamburgers he individually sold.\n",
    "\n",
    "Okay, now that we understand the problem, let's see if we can write what we know in math terms. We know the total number of hotdogs and hamburgers sold was 50:\n",
    "\n",
    "$$hotdogs + hamburgers = 50$$\n",
    "\n",
    "And, selling the hotdogs for \\\\$1.50 and the hamburgers for \\\\$2.00 the total amount made was \\\\$85.00:\n",
    "\n",
    "$$\\$1.50 * hotdogs + \\$2.00 * hamburgers = \\$85.00$$\n",
    "\n",
    "To make things easier to look at, we'll abbreviate the number of hotdogs as $d$ and hamburgers as $h$. We can specify our full problem as:\n",
    "\n",
    "$$\n",
    "d + h = 50 \\\\\n",
    "1.5d + 2h = 85\n",
    "$$\n",
    "\n",
    "This is Harry's problem formalized into math terms. Since he wants to know the individual number of hotdogs and hamburgers sold, **our goal is to find the values of $d$ and $h$**.\n",
    "\n",
    "What we just specified above is a system of linear equations. The name may sound intimidating, but you've most likely seen them at some point. We'll take each term in turn:\n",
    "\n",
    "  - **system** - A collection of 2 or more things (in this case linear equations)\n",
    "  - **linear equation** - For now, you can think of a linear equation as simply an equation that specifies a line. Formally, a linear equation is an equation that can be put into the form of $a_1x_1 + a_2x_2 + \\ldots + a_nx_n + b = 0$.\n",
    "\n",
    "The most common linear equation that we've all seen is:\n",
    "\n",
    "$$y = mx + b$$\n",
    "\n",
    "This is the equation of a line written in slope-intercept form. In this equation $m$ is the slope and $b$ is the y-intercept. While this may not look like a linear equation as we specified above, we can do a little arithmetic and rewrite the slope-intercept form in the style specified in the list above:\n",
    "\n",
    "$$mx - y + b = 0$$\n",
    "\n",
    "We just moved all the variables and constants to the left side. Additionally, we use $x$ and $y$ as the variables instead of $x_1$ and $x_2$. Regardless of the style, these equations specify a line in the X-Y plane that has a X-part and a Y-part. However, we're not just limited to lines in the X-Y plane. These equations can be extended to lines with any number of variables. For example, here is a 3D example using X, Y, and Z.\n",
    "\n",
    "$$a_1x + a_2y + a_3z + b = 0$$\n",
    "\n",
    "In these examples, the symbols in front of the variables (the variables are the $x$'s, $y$'s, $z$'s and $x_i$'s above) are called **coefficients** and they are just simple scalar numbers. In the case of Harry's equations above:\n",
    "\n",
    "$$\n",
    "d + h = 50 \\\\\n",
    "1.5d + 2h = 85\n",
    "$$\n",
    "\n",
    "We chose $d$ and $h$ as the variable names. The coefficients in first equation are easy: $1$ for $d$ and $1$ for $h$ respectively, and for the second: $1.5$ for $d$ and $2$ for $h$.\n",
    "\n",
    "You may have noticed that in some equations, I used $x$ and $y$ and in others I used $d$ and $h$. The actual variable that you use really isn't all that important; however, it is important that you're consistent in your usage when specifying a system.\n",
    "\n",
    "## Simple linear equation\n",
    "\n",
    "Using what we know so far about linear equations, let's look at one of the equations from Harry's system above:\n",
    "\n",
    "$$d + h = 50$$\n",
    "\n",
    "Sometimes, it's useful to visualize the linear equation geometrically and plot it in a coordinate system. We can easily rewrite this equation so that it is in slope-intercept form:\n",
    "\n",
    "$$h = -d + 50$$\n",
    "\n",
    "Referencing the original slope-intercept form, $y = mx + b$, you can see that we're essentially allowing $h$ to be $y$ and $d$ to be $x$. We have a coefficient of $1$ for $d$ and $1$ for $h$. Given our definition of a line, we can say that $-1$ is the slope and $50$ is the Y-intercept. In other words, the line crosses the Y-axis at $50$ and our line slants downwards, because for every increase in $d$, $h$ goes down.\n",
    "\n",
    "To plot this line, we can take a few of values of $d$ and solve for $h$. The simplest value for $d$ is $0$. When $d = 0$, we have $h = 0 + 50$, and solving for $h$, we get $h = 50$. This is consistent with our intuition of the Y-intercept above (recall the definition of the Y-intercept is when $x = 0$). Taking a couple other values of $d$:\n",
    "\n",
    "$$\n",
    "\\begin{array}{rr} \\hline\n",
    "d & 0 & 10 & -10 \\\\ \\hline\n",
    "h & 50 & 40 & 60 \\\\ \\hline\n",
    "\\end{array}\n",
    "$$\n",
    "\n",
    "We can clearly see that by increasing $d$, the values of $h$ go down and vice versa. This means that the line is sloping downwards.\n",
    "\n",
    "Now that we have some points, let's plot those and draw a line through them. Note that this line extends indefinitely in either direction."
   ]
  },
  {
   "cell_type": "code",
   "execution_count": 3,
   "metadata": {
    "hideCode": true,
    "hidePrompt": false
   },
   "outputs": [
    {
     "data": {
      "image/png": "[encoded data removed]",
      "text/plain": [
       "<Figure size 432x288 with 1 Axes>"
      ]
     },
     "metadata": {
      "needs_background": "light"
     },
     "output_type": "display_data"
    }
   ],
   "source": [
    "axis(xmin=-20, xmax=20, ymin=-20, ymax=70)\n",
    "axhline(y=0, color='k', linewidth=0.5)\n",
    "axvline(x=0, color='k', linewidth=0.5)\n",
    "plt.grid(linestyle='dotted')\n",
    "\n",
    "scatter([0, 10, -10], [50, 40, 60], color='red')\n",
    "plot([-20, 20], [70, 30], 'k-', lw=0.5)\n",
    "\n",
    "annotate('(-10, 60)', xy=(-10, 60), xytext=(-9, 61), ha='left')\n",
    "annotate('(0, 50)', xy=(0, 50), xytext=(1, 51), ha='left')\n",
    "annotate('(10, 40)', xy=(10, 40), xytext=(11, 41), ha='left')\n",
    "\n",
    "show()"
   ]
  },
  {
   "cell_type": "markdown",
   "metadata": {
    "hideCode": false,
    "hidePrompt": false
   },
   "source": [
    "It can be tough to reason about the intuition of the chart, but I'll give it a try. Since we are plotting the equation $d + h = 50$, this chart represents the combination of the total number of hotdogs and hamburgers, with the X and Y-axes being the number of hotdogs and hamburgers respectively. Recall the Y-intercept is when $d = x = 0$, so in our case, the Y-intercept is $50$. This is equivalent to saying that of the $50$ total hotdogs and hamburgers, 0 hotdogs and 50 hamburgers were sold. As you increase the number of hotdogs (i.e., move right along the X-axis), you can see the number of hamburgers comes down. It's a delicate balance because our constraint $d + h = 50$, so if $d$ increases, $h$ **must** decrease in order for the equation to hold true. You can increase this until you reach the X-intercept (where $h = y = 0$) and surprise, surprise, $d = 50, h = 0$, which can be interpreted as: of the $50$ total hotdogs and hamburgers, 50 hotdogs and 0 hamburgers were sold."
   ]
  },
  {
   "cell_type": "markdown",
   "metadata": {
    "hideCode": false,
    "hidePrompt": false
   },
   "source": [
    "## System of linear equations\n",
    "\n",
    "Now that we have a command over a single linear equation, let's revisit Harry's system of linear equations. Recall, a system is simply another word for a collection of linear equations.\n",
    "\n",
    "$$\n",
    "d + h = 50 \\\\\n",
    "1.5d + 2h = 85\n",
    "$$\n",
    "\n",
    "Repeating above, $d + h = 50$ tells us that a total of 50 hotdogs and hamburgers were sold. $1.5d + 2h = 85$ tells us that when charging \\\\$1.50 for hotdogs and \\\\$2.00 for hamburgers, the stand earned a total of \\\\$85.00. Harry wants to know how many of each variety were sold. How do we find this out? There are few different ways: geometrically, substitution, and elimination.\n",
    "\n",
    "Solving geometrically is the most intuitive, so let's start with that.\n",
    "\n",
    "### Geometrically\n",
    "Since our system above is just 2 linear equations, we can plot the independent lines and see the point at which they cross. The X-Y point at which they cross is the solution to the system! Below the red line is the equation $d + h = 50$ (same as above), and the blue line is the equation $1.5d + 2h = 85$. Let's see it in action."
   ]
  },
  {
   "cell_type": "code",
   "execution_count": 4,
   "metadata": {
    "hideCode": true,
    "hidePrompt": false
   },
   "outputs": [
    {
     "data": {
      "image/png": "[encoded data removed]",
      "text/plain": [
       "<Figure size 432x288 with 1 Axes>"
      ]
     },
     "metadata": {
      "needs_background": "light"
     },
     "output_type": "display_data"
    }
   ],
   "source": [
    "axhline(y=0, color='k', linewidth=0.5)\n",
    "axvline(x=0, color='k', linewidth=0.5)\n",
    "plt.grid(linestyle='dotted')\n",
    "\n",
    "# Equations of the line\n",
    "def e1(x): return -x + 50\n",
    "def e2(x): return (-1.5 * x + 85) / 2\n",
    "\n",
    "# Plot lines, but extend a little to the left and right\n",
    "plot([-1, 51], [e1(-1), e1(51)], color='red')\n",
    "plot([-1, 58], [e2(-1), e2(58)], color='blue')\n",
    "\n",
    "# Plot intersection\n",
    "scatter(30, 20, marker='o', color='black')\n",
    "annotate('The point (30, 20)', xy=(30, 20), xytext=(31, 21), ha='left')\n",
    "\n",
    "# Create legends\n",
    "v1 = leg(color='red', label='d + h = 50')\n",
    "v2 = leg(color='blue', label='1.5d + 2h = 85')\n",
    "plt.legend(handles=[v1, v2])\n",
    "\n",
    "show()"
   ]
  },
  {
   "cell_type": "markdown",
   "metadata": {
    "hideCode": false
   },
   "source": [
    "Eureka! They cross at the point $x = d = 30$, $y = h = 20$. What this tells us is that of the 50 total hotdogs and hamburgers, Harry sold 30 hotdogs and 20 hamburgers. Although it may be obvious, we can plug these numbers back into our original equations to double check:\n",
    "\n",
    "$$d + h = 50 \\\\ (30) + (20) = 50 \\enspace \\checkmark$$\n",
    "\n",
    "With this newfound information, Harry can happily replenish his stocks knowing how many hotdogs and hamburgers he should buy.\n",
    "\n",
    "Solving the system geometrically is an intuitive way to see the solution, but unfortunately, doesn't get us very far. First, we aren't able to reason about linear equations geometrically that contain more than 3 variables (i.e., we can't plot an equation that has 5 variables is 5D). Second, we can't write code to solve the equations. Fortunately, there are 2 other methods that are much more systematic."
   ]
  },
  {
   "cell_type": "markdown",
   "metadata": {
    "hideCode": false,
    "hidePrompt": false
   },
   "source": [
    "### Substitution\n",
    "\n",
    "Another way to solve for $d$ and $h$ is to solve one of the equations with respect to one of the variables and substitute that into the other equation. Given Harry's system:\n",
    "\n",
    "$$\n",
    "d + h = 50 \\\\\n",
    "1.5d + 2h = 85\n",
    "$$\n",
    "\n",
    "The easiest route is to solve the first equation with respect to $d$ by moving $h$ to the other side:\n",
    "\n",
    "$$d = 50 - h$$\n",
    "\n",
    "Now, substitute this into the other equation for the variable $d$ and solve for $h$:\n",
    "\n",
    "$$\n",
    "1.5d + 2h = 85 \\\\\n",
    "1.5(50 - h) + 2h = 85 \\\\\n",
    "75 - 1.5h + 2h = 85 \\\\\n",
    "0.5h = 10 \\\\\n",
    "h = 20\n",
    "$$\n",
    "\n",
    "Now that we know the value of $h$, we can find the value of $d$ by substituting back into $d = 50 - h$:\n",
    "\n",
    "$$d = 50 - (20) \\\\ d = 30$$\n",
    "\n",
    "That leaves us with $d = 30$, $h = 20$ which is consistent with our geometric solution. Phew.\n",
    "\n",
    "\n",
    "### Elimination\n",
    "\n",
    "Finally, a third way we can solve the system of equations is by using elimination. To solve using elimination, we need to get rid of (i.e., _eliminate_) one of the variables and then solve for the remaining variable. With Harry's system again:\n",
    "\n",
    "$$\n",
    "d + h = 50 \\\\\n",
    "1.5d + 2h = 85\n",
    "$$\n",
    "\n",
    "Although these 2 equations help describe the same problem, they are completely independent equations. As such, we're able to combine them in various ways without changing the true value of $d$ and $h$. We are able to perform the following operations to the equations:\n",
    "\n",
    "  1. Multiply an equation by a scalar number\n",
    "  2. Add the equations (or any multiple of the equations)\n",
    "  3. Subtract the equations (or any multiple of the equations)\n",
    "\n",
    "We have to be careful to ensure that whatever we do, we do it to both sides of the equation. What can we do to these equations to get them into a state such that we can \"knock out\" one of the variables? It would be pretty easy to get rid of $1.5d$ in the second equation by subtracting a multiple of the first equation from the second. Let's see it in action.\n",
    "\n",
    "Multiply the first equation by $1.5$ leaving the second equation untouched:\n",
    "\n",
    "$$\n",
    "(1.5)d + (1.5)h = (1.5)50 \\\\\n",
    "1.5d + 2h = 85\n",
    "$$\n",
    "\n",
    "Carrying the multiplication through, this leaves us with:\n",
    "\n",
    "$$\n",
    "1.5d + 1.5h = 75 \\\\\n",
    "1.5d + 2h = 85\n",
    "$$\n",
    "\n",
    "Now, we can subtract the second equation from the first:\n",
    "\n",
    "$$\n",
    "1.5d + 1.5h = 75 \\\\\n",
    "- (1.5d + 2h = 85)\n",
    "$$\n",
    "\n",
    "The $d$ term goes to zero and what we're left with is:\n",
    "\n",
    "$$-0.5h = -10$$\n",
    "\n",
    "Solving for $h$, we get $h = 20$. So far, we can see that is consistent with our geometric solution. To find the value for $d$, plug $h = 20$ back into one of the original equations and solve for $d$. For instance, we will plug $h$ back into the first equation:\n",
    "\n",
    "$$\n",
    "d + h = 50 \\\\\n",
    "d + (20) = 50\n",
    "$$\n",
    "\n",
    "Solving for $d$, we get $d = 30$ which leaves us with:\n",
    "\n",
    "$$d = 30, h = 20$$\n",
    "\n",
    "Which is consistent with our geometric solution."
   ]
  },
  {
   "cell_type": "markdown",
   "metadata": {},
   "source": [
    "## Connection to vectors and matrices\n",
    "\n",
    "I strategically put this guide after the guide on [matrices](matrices), because there is a connection between matrices and systems of linear equations. The connection is that you can represent the system of linear equations as a matrix! Recall Harry's system from above:\n",
    "\n",
    "$$\n",
    "d + h = 50 \\\\\n",
    "1.5d + 2h = 85\n",
    "$$\n",
    "\n",
    "We can represent this system using matrices with a row per equation. First, let's create a matrix for the coefficients. There are 2 equations total and 2 variables per equation, so we have a $2 x 2$ matrix:\n",
    "\n",
    "$$\\begin{bmatrix}1 & 1 \\\\ 1.5 & 2\\end{bmatrix}$$\n",
    "\n",
    "The row of $1$'s represent the coefficients for $d$ and $h$ in the first equation. Same for the second row and the second equation.\n",
    "\n",
    "Next, we'll represent the variables with a $2 x 1$ matrix/vector with 2 elements:\n",
    "\n",
    "$$\\begin{bmatrix}d \\\\ h\\end{bmatrix}$$\n",
    "\n",
    "Finally, we also represent the totals with a $2 x 1$matrix/vector with 2 elements:\n",
    "\n",
    "$$\\begin{bmatrix}50 \\\\ 85\\end{bmatrix}$$\n",
    "\n",
    "Now, we just need to put all the pieces together:\n",
    "\n",
    "$$\n",
    "\\begin{bmatrix}1 & 1 \\\\ 1.5 & 2\\end{bmatrix}\n",
    "\\begin{bmatrix}d \\\\ h\\end{bmatrix}\n",
    "=\n",
    "\\begin{bmatrix}50 \\\\ 85\\end{bmatrix}\n",
    "$$\n",
    "\n",
    "What we've done is represented the system of linear equations as a product of 2 matrices. If you were to carry through the multiplication, you'd see that we arrive back at the same system:\n",
    "\n",
    "$$\n",
    "\\begin{bmatrix}1d & 1h \\\\ 1.5d & 2h\\end{bmatrix}\n",
    "=\n",
    "\\begin{bmatrix}50 \\\\ 85\\end{bmatrix}\n",
    "$$\n",
    "\n",
    "In general, a system of linear equations can be represented as the product of a coefficient matrix and a vector of unknown variables:\n",
    "\n",
    "$$A\\vec{x} = \\vec{b}$$\n",
    "\n",
    "Where $A$ is the matrix of coefficients, $\\vec{x}$ is the vector of unknown variables, and $\\vec{b}$ is the vector of constants to the right of the equals sign. What we'll be interested in is finding the values in $\\vec{x}$ such that it satisfies the equation.\n",
    "\n",
    "$$\n",
    "\\begin{bmatrix}1 & 1 \\\\ 1.5 & 2\\end{bmatrix}\n",
    "\\begin{bmatrix}d \\\\ h\\end{bmatrix}\n",
    "=\n",
    "\\begin{bmatrix}50 \\\\ 85\\end{bmatrix}\n",
    "\\\\\n",
    "\\enspace A\\quad\\enspace\\enspace\\vec{x} \\enspace=\\enspace\\enspace\\vec{b}\n",
    "$$\n",
    "\n",
    "The benefit of representing systems of linear equations this way is that it allows us to do all kinds of interesting matrix operations on the system. But, how does this help Harry? Even though we've seen how to solve systems of linear equations, in the next section, we'll see how to solve for $\\vec{x}$ using matrix operations."
   ]
  },
  {
   "cell_type": "markdown",
   "metadata": {},
   "source": [
    "## Solvability\n",
    "\n",
    "We saw above that the solution to a system of linear equations is the point at which the linear equations intersect. However, in practice sometimes the equations may not cross or may cross many times. In later guides, we'll dig into these corner cases and talk about what this means for our potential solutions and how to handle them."
   ]
  },
  {
   "cell_type": "markdown",
   "metadata": {
    "hideCode": false,
    "hidePrompt": false
   },
   "source": [
    "## Summary\n",
    "We saw a concrete example of how solving a system of linear equations is useful by helping our friend Harry answer a question about how many hotdogs and hamburgers he should buy to restock. While our problem may have seemed trivial, many problems in all kinds of domains can be structured as a system of linear equations. Like most things in math, there are multiple ways to solve a single problem and solving systems of linear equations is no exception. We saw that, for small enough examples, the problem can be solved geometrically by plotting the equations and seeing where they cross. Alternatively, we can solve the equations by substitution by taking one of the equations, solving for one of the variables, and substituting it back into the other equation and solving. Finally, the we can solve by elimination by combining the equations in ways to systematically eliminate the variables until we're left with only one. We can then solve for the others by plugging in the known values."
   ]
  },
  {
   "cell_type": "markdown",
   "metadata": {},
   "source": [
    "## tl;dr\n",
    "\n",
    "- Systems of linear equations are just a collection of equations that are linear in nature\n",
    "- System == collection\n",
    "- Linear equations == equations that can be put in the form: $a_1x_1 + a_2x_2 + \\ldots + a_nx_n + b = 0$\n",
    "- $y = mx + b$ is a common linear equation with 2 variables ($x$ and $y$)\n",
    "- Systems can be solved geometrically by plotting the equations and seeing at what point they cross\n",
    "- Systems can be solved using substitution by taking one of the equations, solving for a variable, substitute back into the other equation, and solve\n",
    "- Systems can be solved using elimination by combining the equations in order to eliminate the variables one-by-one until you're left with one and then plugging back in the known value\n",
    "- During elimination, equations can be multiplied by a scalar, added, or subtracted\n",
    "- Systems of linear equations can be represented as matrices by putting the coefficients in a matrix, and the variables and constants into a vector: $A\\vec{x} = \\vec{b}$"
   ]
  },
  {
   "cell_type": "markdown",
   "metadata": {},
   "source": [
    "## What's next?\n",
    "\n",
    "This guide introduced the idea behind systems of linear equations and showed various ways to arrive at a solution. However, no code was given for how we might systematically solve a system. As systems grow in the number of variables and equations, it becomes increasingly important to solve the systems in a systematic way. In the [next section](solving-systems-of-linear-equations), we'll determine how we can use matrices to represent and solve Harry's system of linear equations, and see how we can write some code to automatically solve systems of linear equations."
   ]
  }
 ],
 "metadata": {
  "celltoolbar": "Edit Metadata",
  "hide_code_all_hidden": false,
  "kernelspec": {
   "display_name": "Python 3",
   "language": "python",
   "name": "python3"
  },
  "language_info": {
   "codemirror_mode": {
    "name": "ipython",
    "version": 3
   },
   "file_extension": ".py",
   "mimetype": "text/x-python",
   "name": "python",
   "nbconvert_exporter": "python",
   "pygments_lexer": "ipython3",
   "version": "3.6.3"
  }
 },
 "nbformat": 4,
 "nbformat_minor": 2
}
